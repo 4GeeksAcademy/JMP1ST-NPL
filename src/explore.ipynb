{
    "cells": [
        {
            "cell_type": "markdown",
            "metadata": {},
            "source": [
                "# Explore here"
            ]
        },
        {
            "cell_type": "code",
            "execution_count": 43,
            "metadata": {},
            "outputs": [
                {
                    "name": "stderr",
                    "output_type": "stream",
                    "text": [
                        "[nltk_data] Downloading package stopwords to /home/vscode/nltk_data...\n",
                        "[nltk_data]   Package stopwords is already up-to-date!\n",
                        "[nltk_data] Downloading package wordnet to /home/vscode/nltk_data...\n",
                        "[nltk_data]   Package wordnet is already up-to-date!\n",
                        "[nltk_data] Downloading package punkt to /home/vscode/nltk_data...\n",
                        "[nltk_data]   Package punkt is already up-to-date!\n",
                        "[nltk_data] Downloading package punkt_tab to /home/vscode/nltk_data...\n",
                        "[nltk_data]   Package punkt_tab is already up-to-date!\n"
                    ]
                },
                {
                    "data": {
                        "text/plain": [
                            "True"
                        ]
                    },
                    "execution_count": 43,
                    "metadata": {},
                    "output_type": "execute_result"
                }
            ],
            "source": [
                "#Imports\n",
                "import pandas as pd\n",
                "import re\n",
                "from unidecode import unidecode\n",
                "import nltk\n",
                "from nltk.tokenize import word_tokenize\n",
                "from nltk.corpus import stopwords\n",
                "from nltk.stem import WordNetLemmatizer\n",
                "import matplotlib.pyplot as plt\n",
                "from sklearn.model_selection import train_test_split\n",
                "from sklearn.feature_extraction.text import TfidfVectorizer\n",
                "from sklearn.metrics import classification_report\n",
                "from imblearn.over_sampling import SMOTE\n",
                "import seaborn as sns\n",
                "from sklearn.svm import SVC\n",
                "from sklearn.metrics import classification_report, confusion_matrix\n",
                "from sklearn.model_selection import GridSearchCV\n",
                "import joblib\n",
                "nltk.download('stopwords')\n",
                "nltk.download('wordnet')\n",
                "nltk.download('punkt')\n",
                "nltk.download('punkt_tab')"
            ]
        },
        {
            "cell_type": "markdown",
            "metadata": {},
            "source": [
                "Loading the dataset "
            ]
        },
        {
            "cell_type": "code",
            "execution_count": 44,
            "metadata": {},
            "outputs": [
                {
                    "data": {
                        "text/html": [
                            "<div>\n",
                            "<style scoped>\n",
                            "    .dataframe tbody tr th:only-of-type {\n",
                            "        vertical-align: middle;\n",
                            "    }\n",
                            "\n",
                            "    .dataframe tbody tr th {\n",
                            "        vertical-align: top;\n",
                            "    }\n",
                            "\n",
                            "    .dataframe thead th {\n",
                            "        text-align: right;\n",
                            "    }\n",
                            "</style>\n",
                            "<table border=\"1\" class=\"dataframe\">\n",
                            "  <thead>\n",
                            "    <tr style=\"text-align: right;\">\n",
                            "      <th></th>\n",
                            "      <th>url</th>\n",
                            "      <th>is_spam</th>\n",
                            "    </tr>\n",
                            "  </thead>\n",
                            "  <tbody>\n",
                            "    <tr>\n",
                            "      <th>0</th>\n",
                            "      <td>https://briefingday.us8.list-manage.com/unsubs...</td>\n",
                            "      <td>True</td>\n",
                            "    </tr>\n",
                            "    <tr>\n",
                            "      <th>1</th>\n",
                            "      <td>https://www.hvper.com/</td>\n",
                            "      <td>True</td>\n",
                            "    </tr>\n",
                            "    <tr>\n",
                            "      <th>2</th>\n",
                            "      <td>https://briefingday.com/m/v4n3i4f3</td>\n",
                            "      <td>True</td>\n",
                            "    </tr>\n",
                            "    <tr>\n",
                            "      <th>3</th>\n",
                            "      <td>https://briefingday.com/n/20200618/m#commentform</td>\n",
                            "      <td>False</td>\n",
                            "    </tr>\n",
                            "    <tr>\n",
                            "      <th>4</th>\n",
                            "      <td>https://briefingday.com/fan</td>\n",
                            "      <td>True</td>\n",
                            "    </tr>\n",
                            "    <tr>\n",
                            "      <th>...</th>\n",
                            "      <td>...</td>\n",
                            "      <td>...</td>\n",
                            "    </tr>\n",
                            "    <tr>\n",
                            "      <th>2994</th>\n",
                            "      <td>https://www.smartcitiesworld.net/news/news/dee...</td>\n",
                            "      <td>False</td>\n",
                            "    </tr>\n",
                            "    <tr>\n",
                            "      <th>2995</th>\n",
                            "      <td>https://www.youtube.com/watch</td>\n",
                            "      <td>True</td>\n",
                            "    </tr>\n",
                            "    <tr>\n",
                            "      <th>2996</th>\n",
                            "      <td>https://techcrunch.com/2019/07/04/an-optimisti...</td>\n",
                            "      <td>False</td>\n",
                            "    </tr>\n",
                            "    <tr>\n",
                            "      <th>2997</th>\n",
                            "      <td>https://www.technologyreview.com/2019/12/20/13...</td>\n",
                            "      <td>False</td>\n",
                            "    </tr>\n",
                            "    <tr>\n",
                            "      <th>2998</th>\n",
                            "      <td>https://www.bbc.com/news/technology-51018758</td>\n",
                            "      <td>False</td>\n",
                            "    </tr>\n",
                            "  </tbody>\n",
                            "</table>\n",
                            "<p>2999 rows × 2 columns</p>\n",
                            "</div>"
                        ],
                        "text/plain": [
                            "                                                    url  is_spam\n",
                            "0     https://briefingday.us8.list-manage.com/unsubs...     True\n",
                            "1                                https://www.hvper.com/     True\n",
                            "2                    https://briefingday.com/m/v4n3i4f3     True\n",
                            "3      https://briefingday.com/n/20200618/m#commentform    False\n",
                            "4                           https://briefingday.com/fan     True\n",
                            "...                                                 ...      ...\n",
                            "2994  https://www.smartcitiesworld.net/news/news/dee...    False\n",
                            "2995                      https://www.youtube.com/watch     True\n",
                            "2996  https://techcrunch.com/2019/07/04/an-optimisti...    False\n",
                            "2997  https://www.technologyreview.com/2019/12/20/13...    False\n",
                            "2998       https://www.bbc.com/news/technology-51018758    False\n",
                            "\n",
                            "[2999 rows x 2 columns]"
                        ]
                    },
                    "execution_count": 44,
                    "metadata": {},
                    "output_type": "execute_result"
                }
            ],
            "source": [
                "df = pd.read_csv('/workspaces/JMP1ST-NPL/url_spam.csv')\n",
                "df"
            ]
        },
        {
            "cell_type": "code",
            "execution_count": 45,
            "metadata": {},
            "outputs": [
                {
                    "data": {
                        "text/plain": [
                            "(2999, 2)"
                        ]
                    },
                    "execution_count": 45,
                    "metadata": {},
                    "output_type": "execute_result"
                }
            ],
            "source": [
                "df.shape"
            ]
        },
        {
            "cell_type": "code",
            "execution_count": 46,
            "metadata": {},
            "outputs": [
                {
                    "name": "stdout",
                    "output_type": "stream",
                    "text": [
                        "<class 'pandas.core.frame.DataFrame'>\n",
                        "RangeIndex: 2999 entries, 0 to 2998\n",
                        "Data columns (total 2 columns):\n",
                        " #   Column   Non-Null Count  Dtype \n",
                        "---  ------   --------------  ----- \n",
                        " 0   url      2999 non-null   object\n",
                        " 1   is_spam  2999 non-null   bool  \n",
                        "dtypes: bool(1), object(1)\n",
                        "memory usage: 26.5+ KB\n"
                    ]
                }
            ],
            "source": [
                "df.info()"
            ]
        },
        {
            "cell_type": "code",
            "execution_count": 47,
            "metadata": {},
            "outputs": [
                {
                    "data": {
                        "text/plain": [
                            "url        https://briefingday.us8.list-manage.com/unsubs...\n",
                            "is_spam                                                  696\n",
                            "dtype: object"
                        ]
                    },
                    "execution_count": 47,
                    "metadata": {},
                    "output_type": "execute_result"
                }
            ],
            "source": [
                "#Checking those instances where is_spam = True to identify how many spams we have and to get an insight of what is the relation between that link and spam being true\n",
                "spam = df[df['is_spam']==True]\n",
                "spam.sum()"
            ]
        },
        {
            "cell_type": "code",
            "execution_count": 48,
            "metadata": {},
            "outputs": [
                {
                    "name": "stdout",
                    "output_type": "stream",
                    "text": [
                        "https://briefingday.us8.list-manage.com/unsubscribe\n",
                        "https://www.hvper.com/\n",
                        "https://briefingday.com/m/v4n3i4f3\n"
                    ]
                }
            ],
            "source": [
                "#Checking links content \n",
                "for i in range(3):\n",
                "    print(spam['url'][i])"
            ]
        },
        {
            "cell_type": "markdown",
            "metadata": {},
            "source": [
                "We can see that we have 696 instances where spam = True. Later we will inspect if there is any relation between the link characters and the spams"
            ]
        },
        {
            "cell_type": "code",
            "execution_count": 49,
            "metadata": {},
            "outputs": [],
            "source": [
                "#Checking for duplicates \n",
                "duplicates = df.duplicated().sum()"
            ]
        },
        {
            "cell_type": "code",
            "execution_count": 50,
            "metadata": {},
            "outputs": [
                {
                    "data": {
                        "text/html": [
                            "<div>\n",
                            "<style scoped>\n",
                            "    .dataframe tbody tr th:only-of-type {\n",
                            "        vertical-align: middle;\n",
                            "    }\n",
                            "\n",
                            "    .dataframe tbody tr th {\n",
                            "        vertical-align: top;\n",
                            "    }\n",
                            "\n",
                            "    .dataframe thead th {\n",
                            "        text-align: right;\n",
                            "    }\n",
                            "</style>\n",
                            "<table border=\"1\" class=\"dataframe\">\n",
                            "  <thead>\n",
                            "    <tr style=\"text-align: right;\">\n",
                            "      <th></th>\n",
                            "      <th>url</th>\n",
                            "      <th>is_spam</th>\n",
                            "    </tr>\n",
                            "  </thead>\n",
                            "  <tbody>\n",
                            "    <tr>\n",
                            "      <th>0</th>\n",
                            "      <td>https://briefingday.us8.list-manage.com/unsubs...</td>\n",
                            "      <td>True</td>\n",
                            "    </tr>\n",
                            "    <tr>\n",
                            "      <th>1</th>\n",
                            "      <td>https://www.hvper.com/</td>\n",
                            "      <td>True</td>\n",
                            "    </tr>\n",
                            "    <tr>\n",
                            "      <th>2</th>\n",
                            "      <td>https://briefingday.com/m/v4n3i4f3</td>\n",
                            "      <td>True</td>\n",
                            "    </tr>\n",
                            "    <tr>\n",
                            "      <th>4</th>\n",
                            "      <td>https://briefingday.com/fan</td>\n",
                            "      <td>True</td>\n",
                            "    </tr>\n",
                            "    <tr>\n",
                            "      <th>22</th>\n",
                            "      <td>https://www.technologyreview.com/innovators-un...</td>\n",
                            "      <td>False</td>\n",
                            "    </tr>\n",
                            "    <tr>\n",
                            "      <th>...</th>\n",
                            "      <td>...</td>\n",
                            "      <td>...</td>\n",
                            "    </tr>\n",
                            "    <tr>\n",
                            "      <th>2971</th>\n",
                            "      <td>https://www.cnbc.com/2020/06/29/stock-market-f...</td>\n",
                            "      <td>False</td>\n",
                            "    </tr>\n",
                            "    <tr>\n",
                            "      <th>2972</th>\n",
                            "      <td>https://thehustle.co/account/</td>\n",
                            "      <td>True</td>\n",
                            "    </tr>\n",
                            "    <tr>\n",
                            "      <th>2973</th>\n",
                            "      <td>https://thehustle.co/</td>\n",
                            "      <td>True</td>\n",
                            "    </tr>\n",
                            "    <tr>\n",
                            "      <th>2979</th>\n",
                            "      <td>https://www.bloomberg.com/tosv2.html</td>\n",
                            "      <td>True</td>\n",
                            "    </tr>\n",
                            "    <tr>\n",
                            "      <th>2995</th>\n",
                            "      <td>https://www.youtube.com/watch</td>\n",
                            "      <td>True</td>\n",
                            "    </tr>\n",
                            "  </tbody>\n",
                            "</table>\n",
                            "<p>876 rows × 2 columns</p>\n",
                            "</div>"
                        ],
                        "text/plain": [
                            "                                                    url  is_spam\n",
                            "0     https://briefingday.us8.list-manage.com/unsubs...     True\n",
                            "1                                https://www.hvper.com/     True\n",
                            "2                    https://briefingday.com/m/v4n3i4f3     True\n",
                            "4                           https://briefingday.com/fan     True\n",
                            "22    https://www.technologyreview.com/innovators-un...    False\n",
                            "...                                                 ...      ...\n",
                            "2971  https://www.cnbc.com/2020/06/29/stock-market-f...    False\n",
                            "2972                      https://thehustle.co/account/     True\n",
                            "2973                              https://thehustle.co/     True\n",
                            "2979               https://www.bloomberg.com/tosv2.html     True\n",
                            "2995                      https://www.youtube.com/watch     True\n",
                            "\n",
                            "[876 rows x 2 columns]"
                        ]
                    },
                    "execution_count": 50,
                    "metadata": {},
                    "output_type": "execute_result"
                }
            ],
            "source": [
                "duplicates = df[df.duplicated(subset='url', keep=False)]\n",
                "duplicates"
            ]
        },
        {
            "cell_type": "code",
            "execution_count": 51,
            "metadata": {},
            "outputs": [
                {
                    "name": "stdout",
                    "output_type": "stream",
                    "text": [
                        "Series([], Name: is_spam, dtype: int64)\n"
                    ]
                }
            ],
            "source": [
                "#Grouping by URL and count how many unique values exist in is_spam to check for repeated url with differents labels (is_spam).\n",
                "conflicts = df.groupby('url')['is_spam'].nunique()\n",
                "conflicting_urls = conflicts[conflicts > 1]\n",
                "print(conflicting_urls)"
            ]
        },
        {
            "cell_type": "markdown",
            "metadata": {},
            "source": [
                "In order to not generate noise when training the model, the duplicated url will be dropped. "
            ]
        },
        {
            "cell_type": "code",
            "execution_count": 52,
            "metadata": {},
            "outputs": [],
            "source": [
                "df.drop_duplicates(subset='url', inplace=True)"
            ]
        },
        {
            "cell_type": "code",
            "execution_count": 53,
            "metadata": {},
            "outputs": [
                {
                    "data": {
                        "text/plain": [
                            "(2369, 2)"
                        ]
                    },
                    "execution_count": 53,
                    "metadata": {},
                    "output_type": "execute_result"
                }
            ],
            "source": [
                "df.shape"
            ]
        },
        {
            "cell_type": "code",
            "execution_count": 54,
            "metadata": {},
            "outputs": [
                {
                    "data": {
                        "text/plain": [
                            "is_spam\n",
                            "False    0.897003\n",
                            "True     0.102997\n",
                            "Name: proportion, dtype: float64"
                        ]
                    },
                    "execution_count": 54,
                    "metadata": {},
                    "output_type": "execute_result"
                }
            ],
            "source": [
                "#Checking for imabalances \n",
                "df['is_spam'].value_counts(normalize=True)"
            ]
        },
        {
            "cell_type": "markdown",
            "metadata": {},
            "source": [
                "As we can see there is a high imbalance between False (90% of the total spam data) and True (10% of the total spam data). Therefore, we must inspect the best way to normalize this values distribution."
            ]
        },
        {
            "cell_type": "markdown",
            "metadata": {},
            "source": [
                "First let's search for patterns in the URL to have a better understanding of what counts as 'spam'"
            ]
        },
        {
            "cell_type": "code",
            "execution_count": 55,
            "metadata": {},
            "outputs": [
                {
                    "data": {
                        "text/plain": [
                            "862                 https://cariuma.com/pages/skimm-jun20\n",
                            "2890                      https://www.tldrnewsletter.com/\n",
                            "2826    https://numlock.substack.com/p/numlock-sunday-...\n",
                            "1475                             https://austinkleon.com/\n",
                            "1220    https://www.vox.com/2019/9/16/20861003/free-on...\n",
                            "2838    https://numlock.substack.com/p/numlock-sunday-...\n",
                            "777         https://www.voxmedia.com/legal/privacy-notice\n",
                            "2462                               https://www.float.com/\n",
                            "2298       https://www.dameproducts.com/pages/the-skimm-1\n",
                            "29                                  https://join1440.com/\n",
                            "Name: url, dtype: object"
                        ]
                    },
                    "execution_count": 55,
                    "metadata": {},
                    "output_type": "execute_result"
                }
            ],
            "source": [
                "df[df['is_spam'] == True]['url'].sample(10, random_state=1)"
            ]
        },
        {
            "cell_type": "code",
            "execution_count": 56,
            "metadata": {},
            "outputs": [
                {
                    "data": {
                        "text/plain": [
                            "882     https://www.wsj.com/articles/the-debt-is-soari...\n",
                            "1597    https://www.morningbrew.com/retail/stories/202...\n",
                            "1141    https://tim.blog/2019/07/15/psychedelics-micro...\n",
                            "718     https://www.theatlantic.com/health/archive/202...\n",
                            "2399    https://www.cnbc.com/2020/06/29/lululemon-to-a...\n",
                            "1587    https://www.reuters.com/article/us-l-oreal-whi...\n",
                            "2912    https://variety.com/2020/film/news/carl-reiner...\n",
                            "105     https://apnews.com/3ecbdd74c885b362661ed0f8c80...\n",
                            "756     https://www.cnbc.com/2020/06/23/millions-face-...\n",
                            "1663    https://blog.google/products/admanager/news-pu...\n",
                            "Name: url, dtype: object"
                        ]
                    },
                    "execution_count": 56,
                    "metadata": {},
                    "output_type": "execute_result"
                }
            ],
            "source": [
                "df[df['is_spam'] == False]['url'].sample(10, random_state=1)"
            ]
        },
        {
            "cell_type": "markdown",
            "metadata": {},
            "source": [
                "Exploring the URLs revealed that spam links often come from lesser known domains and include promotional or newsletter related paths like /pages/, /p/, or keywords such as “join,” “free,” and “subscribe,” suggesting marketing or referral intent. In contrast, non spam links typically originate from trusted news or corporate domains with structured content paths like /articles/ or /products/. These patterns indicate that domain names, path components, and the presence of specific keywords could be solid features for distinguishing spam. "
            ]
        },
        {
            "cell_type": "markdown",
            "metadata": {},
            "source": [
                "Preprocessing the url's "
            ]
        },
        {
            "cell_type": "code",
            "execution_count": 57,
            "metadata": {},
            "outputs": [
                {
                    "name": "stdout",
                    "output_type": "stream",
                    "text": [
                        "Raw url: https://deceuvel.nl/en/organisatie/\n",
                        "Pre-processed url: deceuvel nl en organisatie\n"
                    ]
                }
            ],
            "source": [
                "#Declaring a function to do all the pre processing \n",
                "\n",
                "#Stopwords\n",
                "url_stopwords = {\"http\", \"https\", \"www\", \"com\", \"html\", \"php\", \"net\", \"org\", \"www2\"}\n",
                "\n",
                "#Function\n",
                "def pre_process_text(text):\n",
                "    #Lowercase \n",
                "    text = text.lower()\n",
                "    #Unwanted 'punct' marks\n",
                "    text = re.sub(r\"[^\\w\\s/-_.]\", \"\", text)\n",
                "    #Token\n",
                "    tokens = re.split(r'\\W+', text)\n",
                "    #Removing empty strings\n",
                "    tokens = [t for t in tokens if t]\n",
                "    #Removing tokens\n",
                "    tokens = [token for token in tokens if token not in url_stopwords]\n",
                "    #Url's lemmatization \n",
                "    lemmatizer = WordNetLemmatizer()\n",
                "    tokens = [lemmatizer.lemmatize(token) for token in tokens]\n",
                "    return \" \".join(tokens)\n",
                "\n",
                "\n",
                "random_raw_url = df.sample(1).url.values[0]\n",
                "print(f'Raw url: {random_raw_url}')\n",
                "\n",
                "random_prepro_url =pre_process_text(random_raw_url)\n",
                "print(f'Pre-processed url: {random_prepro_url}')"
            ]
        },
        {
            "cell_type": "markdown",
            "metadata": {},
            "source": [
                "The output of the pre_process_text function is a cleaned, well suited tokens for our model. Removing common words like 'www', 'https' and so on, we were able to deeply clean the text from repetitive and consistent words throug the df. "
            ]
        },
        {
            "cell_type": "code",
            "execution_count": 58,
            "metadata": {},
            "outputs": [],
            "source": [
                "#Applying the preprocess function to the url variable \n",
                "df['clean_url'] = df['url'].apply(pre_process_text)"
            ]
        },
        {
            "cell_type": "code",
            "execution_count": 59,
            "metadata": {},
            "outputs": [
                {
                    "data": {
                        "text/html": [
                            "<div>\n",
                            "<style scoped>\n",
                            "    .dataframe tbody tr th:only-of-type {\n",
                            "        vertical-align: middle;\n",
                            "    }\n",
                            "\n",
                            "    .dataframe tbody tr th {\n",
                            "        vertical-align: top;\n",
                            "    }\n",
                            "\n",
                            "    .dataframe thead th {\n",
                            "        text-align: right;\n",
                            "    }\n",
                            "</style>\n",
                            "<table border=\"1\" class=\"dataframe\">\n",
                            "  <thead>\n",
                            "    <tr style=\"text-align: right;\">\n",
                            "      <th></th>\n",
                            "      <th>url</th>\n",
                            "      <th>is_spam</th>\n",
                            "      <th>clean_url</th>\n",
                            "    </tr>\n",
                            "  </thead>\n",
                            "  <tbody>\n",
                            "    <tr>\n",
                            "      <th>0</th>\n",
                            "      <td>https://briefingday.us8.list-manage.com/unsubs...</td>\n",
                            "      <td>True</td>\n",
                            "      <td>briefingday us8 listmanage unsubscribe</td>\n",
                            "    </tr>\n",
                            "    <tr>\n",
                            "      <th>1</th>\n",
                            "      <td>https://www.hvper.com/</td>\n",
                            "      <td>True</td>\n",
                            "      <td>hvper</td>\n",
                            "    </tr>\n",
                            "    <tr>\n",
                            "      <th>2</th>\n",
                            "      <td>https://briefingday.com/m/v4n3i4f3</td>\n",
                            "      <td>True</td>\n",
                            "      <td>briefingday m v4n3i4f3</td>\n",
                            "    </tr>\n",
                            "    <tr>\n",
                            "      <th>3</th>\n",
                            "      <td>https://briefingday.com/n/20200618/m#commentform</td>\n",
                            "      <td>False</td>\n",
                            "      <td>briefingday n 20200618 mcommentform</td>\n",
                            "    </tr>\n",
                            "    <tr>\n",
                            "      <th>4</th>\n",
                            "      <td>https://briefingday.com/fan</td>\n",
                            "      <td>True</td>\n",
                            "      <td>briefingday fan</td>\n",
                            "    </tr>\n",
                            "    <tr>\n",
                            "      <th>...</th>\n",
                            "      <td>...</td>\n",
                            "      <td>...</td>\n",
                            "      <td>...</td>\n",
                            "    </tr>\n",
                            "    <tr>\n",
                            "      <th>2993</th>\n",
                            "      <td>https://www.theverge.com/2020/6/29/21306889/di...</td>\n",
                            "      <td>False</td>\n",
                            "      <td>theverge 2020 6 29 21306889 disneydeepfakeface...</td>\n",
                            "    </tr>\n",
                            "    <tr>\n",
                            "      <th>2994</th>\n",
                            "      <td>https://www.smartcitiesworld.net/news/news/dee...</td>\n",
                            "      <td>False</td>\n",
                            "      <td>smartcitiesworld news news deepfaketechnologyu...</td>\n",
                            "    </tr>\n",
                            "    <tr>\n",
                            "      <th>2996</th>\n",
                            "      <td>https://techcrunch.com/2019/07/04/an-optimisti...</td>\n",
                            "      <td>False</td>\n",
                            "      <td>techcrunch 2019 07 04 anoptimisticviewofdeepfakes</td>\n",
                            "    </tr>\n",
                            "    <tr>\n",
                            "      <th>2997</th>\n",
                            "      <td>https://www.technologyreview.com/2019/12/20/13...</td>\n",
                            "      <td>False</td>\n",
                            "      <td>technologyreview 2019 12 20 131462 thisstartup...</td>\n",
                            "    </tr>\n",
                            "    <tr>\n",
                            "      <th>2998</th>\n",
                            "      <td>https://www.bbc.com/news/technology-51018758</td>\n",
                            "      <td>False</td>\n",
                            "      <td>bbc news technology51018758</td>\n",
                            "    </tr>\n",
                            "  </tbody>\n",
                            "</table>\n",
                            "<p>2369 rows × 3 columns</p>\n",
                            "</div>"
                        ],
                        "text/plain": [
                            "                                                    url  is_spam  \\\n",
                            "0     https://briefingday.us8.list-manage.com/unsubs...     True   \n",
                            "1                                https://www.hvper.com/     True   \n",
                            "2                    https://briefingday.com/m/v4n3i4f3     True   \n",
                            "3      https://briefingday.com/n/20200618/m#commentform    False   \n",
                            "4                           https://briefingday.com/fan     True   \n",
                            "...                                                 ...      ...   \n",
                            "2993  https://www.theverge.com/2020/6/29/21306889/di...    False   \n",
                            "2994  https://www.smartcitiesworld.net/news/news/dee...    False   \n",
                            "2996  https://techcrunch.com/2019/07/04/an-optimisti...    False   \n",
                            "2997  https://www.technologyreview.com/2019/12/20/13...    False   \n",
                            "2998       https://www.bbc.com/news/technology-51018758    False   \n",
                            "\n",
                            "                                              clean_url  \n",
                            "0                briefingday us8 listmanage unsubscribe  \n",
                            "1                                                 hvper  \n",
                            "2                                briefingday m v4n3i4f3  \n",
                            "3                   briefingday n 20200618 mcommentform  \n",
                            "4                                       briefingday fan  \n",
                            "...                                                 ...  \n",
                            "2993  theverge 2020 6 29 21306889 disneydeepfakeface...  \n",
                            "2994  smartcitiesworld news news deepfaketechnologyu...  \n",
                            "2996  techcrunch 2019 07 04 anoptimisticviewofdeepfakes  \n",
                            "2997  technologyreview 2019 12 20 131462 thisstartup...  \n",
                            "2998                        bbc news technology51018758  \n",
                            "\n",
                            "[2369 rows x 3 columns]"
                        ]
                    },
                    "execution_count": 59,
                    "metadata": {},
                    "output_type": "execute_result"
                }
            ],
            "source": [
                "df"
            ]
        },
        {
            "cell_type": "code",
            "execution_count": 60,
            "metadata": {},
            "outputs": [
                {
                    "data": {
                        "text/plain": [
                            "np.int64(6)"
                        ]
                    },
                    "execution_count": 60,
                    "metadata": {},
                    "output_type": "execute_result"
                }
            ],
            "source": [
                "#Checking for equally tokenized strings\n",
                "df.duplicated(subset='clean_url').sum()"
            ]
        },
        {
            "cell_type": "code",
            "execution_count": 61,
            "metadata": {},
            "outputs": [],
            "source": [
                "#Dropping those dups\n",
                "df.drop_duplicates(subset=['clean_url'], inplace=True)"
            ]
        },
        {
            "cell_type": "code",
            "execution_count": 62,
            "metadata": {},
            "outputs": [
                {
                    "data": {
                        "text/plain": [
                            "(2363, 3)"
                        ]
                    },
                    "execution_count": 62,
                    "metadata": {},
                    "output_type": "execute_result"
                }
            ],
            "source": [
                "#Checking the shape\n",
                "df.shape"
            ]
        },
        {
            "cell_type": "markdown",
            "metadata": {},
            "source": [
                "Let's proceed to split the data "
            ]
        },
        {
            "cell_type": "code",
            "execution_count": 63,
            "metadata": {},
            "outputs": [],
            "source": [
                "#Defining X and Y \n",
                "X_train, X_test, y_train, y_test = train_test_split(df['clean_url'], df['is_spam'], test_size=0.2, random_state=42, stratify=df['is_spam'])"
            ]
        },
        {
            "cell_type": "code",
            "execution_count": 64,
            "metadata": {},
            "outputs": [
                {
                    "data": {
                        "text/plain": [
                            "is_spam\n",
                            "False    0.896406\n",
                            "True     0.103594\n",
                            "Name: proportion, dtype: float64"
                        ]
                    },
                    "execution_count": 64,
                    "metadata": {},
                    "output_type": "execute_result"
                }
            ],
            "source": [
                "#Checking for proportions \n",
                "y_test.value_counts(normalize=True)"
            ]
        },
        {
            "cell_type": "code",
            "execution_count": 65,
            "metadata": {},
            "outputs": [
                {
                    "data": {
                        "text/plain": [
                            "is_spam\n",
                            "False    0.897354\n",
                            "True     0.102646\n",
                            "Name: proportion, dtype: float64"
                        ]
                    },
                    "execution_count": 65,
                    "metadata": {},
                    "output_type": "execute_result"
                }
            ],
            "source": [
                "#Checking for proportions \n",
                "y_train.value_counts(normalize=True)"
            ]
        },
        {
            "cell_type": "markdown",
            "metadata": {},
            "source": [
                "As we can see, stratified partitioning worked correctly as the proportions in both sets are nearly identical, meaning the model will train and be tested on similarly distributed data."
            ]
        },
        {
            "cell_type": "markdown",
            "metadata": {},
            "source": [
                "However, we can also clearly observe that there is a huge imbalance inside y ('is_spam'). Only about 1 in 10 URLs is spam and as we care the most for the recall performance on this model (False negatives are more dangerous) let's apply the SMOTE method to handle the imbalance. "
            ]
        },
        {
            "cell_type": "code",
            "execution_count": 66,
            "metadata": {},
            "outputs": [
                {
                    "data": {
                        "image/png": "[encoded data removed]",
                        "text/plain": [
                            "<Figure size 600x400 with 1 Axes>"
                        ]
                    },
                    "metadata": {},
                    "output_type": "display_data"
                }
            ],
            "source": [
                "#Pre SMOTE class distribution (imbalance)\n",
                "\n",
                "sns.set(style=\"whitegrid\")\n",
                "plt.figure(figsize=(6, 4))\n",
                "sns.countplot(x=y_train)\n",
                "plt.title(\"Class Distribution Before SMOTE\")\n",
                "plt.xlabel(\"is_spam\")\n",
                "plt.ylabel(\"Count\")\n",
                "plt.show()"
            ]
        },
        {
            "cell_type": "code",
            "execution_count": 67,
            "metadata": {},
            "outputs": [],
            "source": [
                "#Let's vectorize the url's before SMOTE ()\n",
                "tfidf = TfidfVectorizer()\n",
                "X_train_vec = tfidf.fit_transform(X_train)  # sparse matrix"
            ]
        },
        {
            "cell_type": "code",
            "execution_count": 68,
            "metadata": {},
            "outputs": [],
            "source": [
                "#Applying SMOTE over the class imbalance\n",
                "smote = SMOTE(random_state=42)\n",
                "X_train_resampled, y_train_resampled = smote.fit_resample(X_train_vec, y_train)"
            ]
        },
        {
            "cell_type": "code",
            "execution_count": 69,
            "metadata": {},
            "outputs": [],
            "source": [
                "#Vectorizing test set\n",
                "X_test_vec = tfidf.transform(X_test)"
            ]
        },
        {
            "cell_type": "code",
            "execution_count": 70,
            "metadata": {},
            "outputs": [
                {
                    "data": {
                        "text/plain": [
                            "is_spam\n",
                            "False    0.5\n",
                            "True     0.5\n",
                            "Name: proportion, dtype: float64"
                        ]
                    },
                    "execution_count": 70,
                    "metadata": {},
                    "output_type": "execute_result"
                }
            ],
            "source": [
                "#Checking the value counts the NEW y_train\n",
                "y_train_resampled.value_counts(normalize=True)"
            ]
        },
        {
            "cell_type": "code",
            "execution_count": 71,
            "metadata": {},
            "outputs": [
                {
                    "data": {
                        "image/png": "[encoded data removed]",
                        "text/plain": [
                            "<Figure size 600x400 with 1 Axes>"
                        ]
                    },
                    "metadata": {},
                    "output_type": "display_data"
                }
            ],
            "source": [
                "#Post SMOTE class distribution (Balanced)\n",
                "\n",
                "plt.figure(figsize=(6, 4))\n",
                "sns.countplot(x=y_train_resampled)\n",
                "plt.title(\"Class Distribution After SMOTE\")\n",
                "plt.xlabel(\"is_spam\")\n",
                "plt.ylabel(\"Count\")\n",
                "plt.show()"
            ]
        },
        {
            "cell_type": "markdown",
            "metadata": {},
            "source": [
                "After applying SMOTE we can confirm that the class distribution is in conditions to train our model (SVC with default parameters)"
            ]
        },
        {
            "cell_type": "code",
            "execution_count": 72,
            "metadata": {},
            "outputs": [
                {
                    "name": "stdout",
                    "output_type": "stream",
                    "text": [
                        "[[368  56]\n",
                        " [ 19  30]]\n",
                        "              precision    recall  f1-score   support\n",
                        "\n",
                        "       False       0.95      0.87      0.91       424\n",
                        "        True       0.35      0.61      0.44        49\n",
                        "\n",
                        "    accuracy                           0.84       473\n",
                        "   macro avg       0.65      0.74      0.68       473\n",
                        "weighted avg       0.89      0.84      0.86       473\n",
                        "\n"
                    ]
                }
            ],
            "source": [
                "#Instancing the model\n",
                "svm_clf = SVC(random_state=42)\n",
                "\n",
                "#Training on resampled data\n",
                "svm_clf.fit(X_train_resampled, y_train_resampled)\n",
                "\n",
                "#Predicting on test data\n",
                "y_pred = svm_clf.predict(X_test_vec)\n",
                "\n",
                "#Metrics\n",
                "print(confusion_matrix(y_test, y_pred))\n",
                "print(classification_report(y_test, y_pred))"
            ]
        },
        {
            "cell_type": "markdown",
            "metadata": {},
            "source": [
                "The default SVM model performed well in identifying non-spam URLs, achieving high precision (95%) and good overall accuracy (84%). However, it struggled with detecting spam URLs, with lower precision (35%) and recall (61%), meaning it missed several spam cases and also had some false positives. This indicates that while the model is reliable at identifying safe links, it needs improvement in spotting spam, let's see how the recall for True behaves after tunning the hyperparameters. "
            ]
        },
        {
            "cell_type": "code",
            "execution_count": 73,
            "metadata": {},
            "outputs": [
                {
                    "name": "stdout",
                    "output_type": "stream",
                    "text": [
                        "Best params: {'C': 10, 'gamma': 'scale', 'kernel': 'linear'}\n",
                        "Best recall score: 0.9988200589970502\n"
                    ]
                }
            ],
            "source": [
                "#Hyperparameter searching\n",
                "\n",
                "#Defining parameters \n",
                "param_grid = {\n",
                "    'C': [0.1, 1, 10],\n",
                "    'kernel': ['linear', 'rbf'],\n",
                "    'gamma': ['scale', 'auto']\n",
                "}\n",
                "\n",
                "#Instancing GridSearchCV\n",
                "svc = SVC()\n",
                "grid_search = GridSearchCV(svc, param_grid, scoring='recall', cv=5, n_jobs=-1)\n",
                "grid_search.fit(X_train_resampled, y_train_resampled)\n",
                "\n",
                "#Results\n",
                "print(\"Best params:\", grid_search.best_params_)\n",
                "print(\"Best recall score:\", grid_search.best_score_)"
            ]
        },
        {
            "cell_type": "markdown",
            "metadata": {},
            "source": [
                "Let's train and evaluate the model using the best Hyperparameters found."
            ]
        },
        {
            "cell_type": "code",
            "execution_count": 74,
            "metadata": {},
            "outputs": [
                {
                    "name": "stdout",
                    "output_type": "stream",
                    "text": [
                        "[[410  14]\n",
                        " [ 17  32]]\n",
                        "              precision    recall  f1-score   support\n",
                        "\n",
                        "       False       0.96      0.97      0.96       424\n",
                        "        True       0.70      0.65      0.67        49\n",
                        "\n",
                        "    accuracy                           0.93       473\n",
                        "   macro avg       0.83      0.81      0.82       473\n",
                        "weighted avg       0.93      0.93      0.93       473\n",
                        "\n"
                    ]
                }
            ],
            "source": [
                "#Instancing the SVM with best params\n",
                "best_svcm = SVC(C=10, gamma='scale', kernel='linear', random_state=42)\n",
                "\n",
                "#Training data\n",
                "best_svcm.fit(X_train_resampled, y_train_resampled)\n",
                "\n",
                "#Pred on test\n",
                "y_pred1 = best_svcm.predict(X_test_vec)\n",
                "\n",
                "print(confusion_matrix(y_test, y_pred1))\n",
                "print(classification_report(y_test, y_pred1))"
            ]
        },
        {
            "cell_type": "markdown",
            "metadata": {},
            "source": [
                "The optimized SVM model shows clear improvement over the default one. While the default model had an accuracy of 84% and a recall of 61% for the spam class, the tuned model reaches 93% accuracy and improves spam recall to 65%, which is crucial for detecting spam correctly. Precision for spam also increased significantly (from 35% to 70%), meaning fewer false positives. Overall, the optimized model is more balanced and better at identifying spam."
            ]
        },
        {
            "cell_type": "code",
            "execution_count": 75,
            "metadata": {},
            "outputs": [
                {
                    "data": {
                        "text/plain": [
                            "['svm_spam_detector_model.joblib']"
                        ]
                    },
                    "execution_count": 75,
                    "metadata": {},
                    "output_type": "execute_result"
                }
            ],
            "source": [
                "#Saving the best model \n",
                "\n",
                "joblib.dump(best_svcm, 'svm_spam_detector_model.joblib')"
            ]
        }
    ],
    "metadata": {
        "kernelspec": {
            "display_name": "Python 3",
            "language": "python",
            "name": "python3"
        },
        "language_info": {
            "codemirror_mode": {
                "name": "ipython",
                "version": 3
            },
            "file_extension": ".py",
            "mimetype": "text/x-python",
            "name": "python",
            "nbconvert_exporter": "python",
            "pygments_lexer": "ipython3",
            "version": "3.11.4"
        },
        "orig_nbformat": 4
    },
    "nbformat": 4,
    "nbformat_minor": 2
}
